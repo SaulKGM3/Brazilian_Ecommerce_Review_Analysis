{
 "cells": [
  {
   "cell_type": "markdown",
   "id": "8cd1afad-8b6d-4803-a0fa-93f2275f1655",
   "metadata": {},
   "source": [
    "# Introduction\n",
    "\n",
    "### Dataset Origin\n",
    "The dataset contains real-world information from Brazilian e-commerce transactions. It was originally made publicly available by *Olist*, a Brazilian online retail platform, for educational and analytical purposes. The data is anonymized and reflects actual customer orders, payments, products, and reviews.\n",
    "\n",
    "### Objective\n",
    "The main goal of this project is to build an interpretable model to support the Business Intelligence team by explaining the key factors behind positive or negative customer reviews.  \n",
    "This model is designed for **explainability**, not for **predictive accuracy**. Its purpose is to clearly identify which variables have the greatest influence on customer satisfaction, helping prioritize service improvements. The business goal is not to predict but to address and resolve negative customer experiences.\n",
    "The project is intended to be used and reviewed within a Jupyter Notebook environment.\n"
   ]
  },
  {
   "cell_type": "code",
   "execution_count": null,
   "id": "9ed3096e-778a-4f4e-877e-27ecfad59e5c",
   "metadata": {},
   "outputs": [],
   "source": []
  },
  {
   "cell_type": "markdown",
   "id": "11fc627d-e25f-40ef-a6ef-b5ff1b4bbe9f",
   "metadata": {},
   "source": [
    "### EDA \n",
    "**This section can be skiped**. No necessary code to execute model is on this secction. If dessired jump to Conclussions. This secction is a small sample to ejemplify the code used to explore de data."
   ]
  },
  {
   "cell_type": "code",
   "execution_count": 4,
   "id": "35d8626e-2736-4957-9b3a-ea1e78ce2680",
   "metadata": {},
   "outputs": [],
   "source": [
    "### Data upload\n",
    "import pandas as pd\n",
    "\n",
    "data_path = \"../Data/\"\n",
    "\n",
    "df_customers = pd.read_csv(data_path + \"olist_customers_dataset.csv\")\n",
    "df_geolocation = pd.read_csv(data_path + \"olist_geolocation_dataset.csv\")\n",
    "df_order_items = pd.read_csv(data_path + \"olist_order_items_dataset.csv\")\n",
    "df_payments = pd.read_csv(data_path + \"olist_order_payments_dataset.csv\")\n",
    "df_reviews = pd.read_csv(data_path + \"olist_order_reviews_dataset.csv\")\n",
    "df_orders = pd.read_csv(data_path + \"olist_orders_dataset.csv\")\n",
    "df_products = pd.read_csv(data_path + \"olist_products_dataset.csv\")\n",
    "df_sellers = pd.read_csv(data_path + \"olist_sellers_dataset.csv\")\n",
    "df_category = pd.read_csv(data_path + \"product_category_name_translation.csv\")\n",
    "\n",
    "df_closed = pd.read_csv(data_path + \"olist_closed_deals_dataset.csv\")\n",
    "df_leads = pd.read_csv(data_path + \"olist_marketing_qualified_leads_dataset.csv\")\n"
   ]
  },
  {
   "cell_type": "markdown",
   "id": "1ff3840b-a845-4a6f-8add-8d642c6ecf06",
   "metadata": {},
   "source": [
    "Full data has 3 kind of columns, dates, numeric and text.\n",
    "<!--  -->\n",
    "Next is a sample of resources used for all data and evaluation process for each column kind. This was repeated for all columns."
   ]
  },
  {
   "cell_type": "code",
   "execution_count": 206,
   "id": "e0392560-fbc0-44d1-b4db-0a12a64fd7c2",
   "metadata": {},
   "outputs": [],
   "source": [
    "### Easy access object\n",
    "df_M = [ \"df_customers\", \"df_geolocation\", \"df_order_items\", \"df_payments\", \"df_reviews\", \"df_products\", \"df_sellers\", \"df_closed\", \"df_leads\"]"
   ]
  },
  {
   "cell_type": "code",
   "execution_count": 208,
   "id": "ab76a5f0-f337-484c-9e02-9e7c2e76e81d",
   "metadata": {},
   "outputs": [
    {
     "data": {
      "text/plain": [
       "Index(['customer_id', 'customer_unique_id', 'customer_zip_code_prefix',\n",
       "       'customer_city', 'customer_state'],\n",
       "      dtype='object')"
      ]
     },
     "execution_count": 208,
     "metadata": {},
     "output_type": "execute_result"
    }
   ],
   "source": [
    "### Identify columns\n",
    "df_customers.columns"
   ]
  },
  {
   "cell_type": "code",
   "execution_count": 6,
   "id": "07981d0d-a231-4dca-895a-99740dbd0c1d",
   "metadata": {
    "scrolled": true
   },
   "outputs": [
    {
     "data": {
      "text/html": [
       "<div>\n",
       "<style scoped>\n",
       "    .dataframe tbody tr th:only-of-type {\n",
       "        vertical-align: middle;\n",
       "    }\n",
       "\n",
       "    .dataframe tbody tr th {\n",
       "        vertical-align: top;\n",
       "    }\n",
       "\n",
       "    .dataframe thead th {\n",
       "        text-align: right;\n",
       "    }\n",
       "</style>\n",
       "<table border=\"1\" class=\"dataframe\">\n",
       "  <thead>\n",
       "    <tr style=\"text-align: right;\">\n",
       "      <th></th>\n",
       "      <th>seller_id</th>\n",
       "      <th>seller_zip_code_prefix</th>\n",
       "      <th>seller_city</th>\n",
       "      <th>seller_state</th>\n",
       "    </tr>\n",
       "  </thead>\n",
       "  <tbody>\n",
       "    <tr>\n",
       "      <th>0</th>\n",
       "      <td>3442f8959a84dea7ee197c632cb2df15</td>\n",
       "      <td>13023</td>\n",
       "      <td>campinas</td>\n",
       "      <td>SP</td>\n",
       "    </tr>\n",
       "    <tr>\n",
       "      <th>1</th>\n",
       "      <td>d1b65fc7debc3361ea86b5f14c68d2e2</td>\n",
       "      <td>13844</td>\n",
       "      <td>mogi guacu</td>\n",
       "      <td>SP</td>\n",
       "    </tr>\n",
       "    <tr>\n",
       "      <th>2</th>\n",
       "      <td>ce3ad9de960102d0677a81f5d0bb7b2d</td>\n",
       "      <td>20031</td>\n",
       "      <td>rio de janeiro</td>\n",
       "      <td>RJ</td>\n",
       "    </tr>\n",
       "    <tr>\n",
       "      <th>3</th>\n",
       "      <td>c0f3eea2e14555b6faeea3dd58c1b1c3</td>\n",
       "      <td>4195</td>\n",
       "      <td>sao paulo</td>\n",
       "      <td>SP</td>\n",
       "    </tr>\n",
       "    <tr>\n",
       "      <th>4</th>\n",
       "      <td>51a04a8a6bdcb23deccc82b0b80742cf</td>\n",
       "      <td>12914</td>\n",
       "      <td>braganca paulista</td>\n",
       "      <td>SP</td>\n",
       "    </tr>\n",
       "    <tr>\n",
       "      <th>5</th>\n",
       "      <td>c240c4061717ac1806ae6ee72be3533b</td>\n",
       "      <td>20920</td>\n",
       "      <td>rio de janeiro</td>\n",
       "      <td>RJ</td>\n",
       "    </tr>\n",
       "    <tr>\n",
       "      <th>6</th>\n",
       "      <td>e49c26c3edfa46d227d5121a6b6e4d37</td>\n",
       "      <td>55325</td>\n",
       "      <td>brejao</td>\n",
       "      <td>PE</td>\n",
       "    </tr>\n",
       "    <tr>\n",
       "      <th>7</th>\n",
       "      <td>1b938a7ec6ac5061a66a3766e0e75f90</td>\n",
       "      <td>16304</td>\n",
       "      <td>penapolis</td>\n",
       "      <td>SP</td>\n",
       "    </tr>\n",
       "    <tr>\n",
       "      <th>8</th>\n",
       "      <td>768a86e36ad6aae3d03ee3c6433d61df</td>\n",
       "      <td>1529</td>\n",
       "      <td>sao paulo</td>\n",
       "      <td>SP</td>\n",
       "    </tr>\n",
       "    <tr>\n",
       "      <th>9</th>\n",
       "      <td>ccc4bbb5f32a6ab2b7066a4130f114e3</td>\n",
       "      <td>80310</td>\n",
       "      <td>curitiba</td>\n",
       "      <td>PR</td>\n",
       "    </tr>\n",
       "  </tbody>\n",
       "</table>\n",
       "</div>"
      ],
      "text/plain": [
       "                          seller_id  seller_zip_code_prefix  \\\n",
       "0  3442f8959a84dea7ee197c632cb2df15                   13023   \n",
       "1  d1b65fc7debc3361ea86b5f14c68d2e2                   13844   \n",
       "2  ce3ad9de960102d0677a81f5d0bb7b2d                   20031   \n",
       "3  c0f3eea2e14555b6faeea3dd58c1b1c3                    4195   \n",
       "4  51a04a8a6bdcb23deccc82b0b80742cf                   12914   \n",
       "5  c240c4061717ac1806ae6ee72be3533b                   20920   \n",
       "6  e49c26c3edfa46d227d5121a6b6e4d37                   55325   \n",
       "7  1b938a7ec6ac5061a66a3766e0e75f90                   16304   \n",
       "8  768a86e36ad6aae3d03ee3c6433d61df                    1529   \n",
       "9  ccc4bbb5f32a6ab2b7066a4130f114e3                   80310   \n",
       "\n",
       "         seller_city seller_state  \n",
       "0           campinas           SP  \n",
       "1         mogi guacu           SP  \n",
       "2     rio de janeiro           RJ  \n",
       "3          sao paulo           SP  \n",
       "4  braganca paulista           SP  \n",
       "5     rio de janeiro           RJ  \n",
       "6             brejao           PE  \n",
       "7          penapolis           SP  \n",
       "8          sao paulo           SP  \n",
       "9           curitiba           PR  "
      ]
     },
     "execution_count": 6,
     "metadata": {},
     "output_type": "execute_result"
    }
   ],
   "source": [
    "### Small sample of table \n",
    "df_sellers[:10]"
   ]
  },
  {
   "cell_type": "code",
   "execution_count": null,
   "id": "56ca00c9-545e-45ad-97c6-317804b51e3b",
   "metadata": {},
   "outputs": [],
   "source": []
  },
  {
   "cell_type": "markdown",
   "id": "58522273-ab0e-491f-a1ad-3a381842e551",
   "metadata": {},
   "source": [
    "*Text columns were explored as follows*"
   ]
  },
  {
   "cell_type": "code",
   "execution_count": 79,
   "id": "2a228bbc-0212-477e-942e-1441199b47c9",
   "metadata": {},
   "outputs": [
    {
     "data": {
      "text/plain": [
       "0    SP\n",
       "1    SP\n",
       "2    SP\n",
       "3    SP\n",
       "4    SP\n",
       "5    SC\n",
       "6    SP\n",
       "7    MG\n",
       "8    PR\n",
       "9    MG\n",
       "Name: customer_state, dtype: object"
      ]
     },
     "execution_count": 79,
     "metadata": {},
     "output_type": "execute_result"
    }
   ],
   "source": [
    "### Fast review of data \n",
    "df_customers[\"customer_state\"][:10]"
   ]
  },
  {
   "cell_type": "code",
   "execution_count": 12,
   "id": "8fc2f120-8fc5-4a85-9ffd-63b4db946261",
   "metadata": {},
   "outputs": [
    {
     "data": {
      "text/plain": [
       "count     99441\n",
       "unique       27\n",
       "top          SP\n",
       "freq      41746\n",
       "Name: customer_state, dtype: object"
      ]
     },
     "execution_count": 12,
     "metadata": {},
     "output_type": "execute_result"
    }
   ],
   "source": [
    "### Frequency summary for categories\n",
    "df_customers[\"customer_state\"].describe()"
   ]
  },
  {
   "cell_type": "code",
   "execution_count": null,
   "id": "c562b5c8-9915-4519-b071-37a510ee30d8",
   "metadata": {},
   "outputs": [],
   "source": [
    "### Identification of unique values\n",
    "df_customers[\"customer_state\"].value_counts()"
   ]
  },
  {
   "cell_type": "code",
   "execution_count": null,
   "id": "847905f1-ffa6-45ab-8227-9b31fdcd79bf",
   "metadata": {},
   "outputs": [],
   "source": [
    "### Nulls count per column\n",
    "df_customers[\"customer_state\"].isnull().sum()"
   ]
  },
  {
   "cell_type": "code",
   "execution_count": 10,
   "id": "6dd7758b-84a5-4f53-94d6-476fa0a78d56",
   "metadata": {},
   "outputs": [
    {
     "data": {
      "text/plain": [
       "dtype('O')"
      ]
     },
     "execution_count": 10,
     "metadata": {},
     "output_type": "execute_result"
    }
   ],
   "source": [
    "### Identification of data type\n",
    "df_customers[\"customer_state\"].dtype"
   ]
  },
  {
   "cell_type": "code",
   "execution_count": null,
   "id": "ca462981-73cf-4eaf-8ce6-bf9f68dd300c",
   "metadata": {},
   "outputs": [],
   "source": [
    "### Identification of unexpected lenghts \n",
    "df_customers[df_customers[\"customer_id\"].str.len()!=32]"
   ]
  },
  {
   "cell_type": "code",
   "execution_count": null,
   "id": "9cb98332-b8db-485d-ac8c-2849687a70d4",
   "metadata": {},
   "outputs": [],
   "source": [
    "### Values supposed to be unique are unique \n",
    "(df_closed[\"mql_id\"].value_counts() > 1).sum()"
   ]
  },
  {
   "cell_type": "code",
   "execution_count": null,
   "id": "6dd4050b-21e6-4a20-bb2c-2c2d272fe508",
   "metadata": {},
   "outputs": [],
   "source": [
    "### For exploration of columns with big amount of cateogires \n",
    "for val in sorted(df_geolocation[\"geolocation_city\"].unique()):\n",
    "    print(val)"
   ]
  },
  {
   "cell_type": "code",
   "execution_count": null,
   "id": "291d96aa-bf08-46e9-b262-586003fed6d2",
   "metadata": {},
   "outputs": [],
   "source": []
  },
  {
   "cell_type": "markdown",
   "id": "3ce8d3d2-0150-410b-9bd5-df6b19be56f1",
   "metadata": {},
   "source": [
    "*Numeric columns were explored as follows*"
   ]
  },
  {
   "cell_type": "code",
   "execution_count": null,
   "id": "7c1df187-f81d-4de0-8505-94a147515ee4",
   "metadata": {},
   "outputs": [],
   "source": [
    "### Fast review of data \n",
    "df_products[\"product_height_cm\"][:10]"
   ]
  },
  {
   "cell_type": "code",
   "execution_count": null,
   "id": "847e89d4-5a82-4e52-be9e-46e59000d3b6",
   "metadata": {},
   "outputs": [],
   "source": [
    "### Identification of data type\n",
    "df_products[\"product_height_cm\"].dtype"
   ]
  },
  {
   "cell_type": "code",
   "execution_count": 14,
   "id": "2a35c7e1-2ae7-489d-8095-06a81717b693",
   "metadata": {},
   "outputs": [
    {
     "data": {
      "text/plain": [
       "count    32949.000000\n",
       "mean        16.937661\n",
       "std         13.637554\n",
       "min          2.000000\n",
       "25%          8.000000\n",
       "50%         13.000000\n",
       "75%         21.000000\n",
       "max        105.000000\n",
       "Name: product_height_cm, dtype: float64"
      ]
     },
     "execution_count": 14,
     "metadata": {},
     "output_type": "execute_result"
    }
   ],
   "source": [
    "### Data distribution\n",
    "df_products[\"product_height_cm\"].describe()"
   ]
  },
  {
   "cell_type": "code",
   "execution_count": null,
   "id": "883788bb-1436-45aa-81d0-1b37c1056f20",
   "metadata": {},
   "outputs": [],
   "source": [
    "### Nulls count per column\n",
    "df_order_items[\"product_height_cm\"].isnull().sum()"
   ]
  },
  {
   "cell_type": "code",
   "execution_count": 210,
   "id": "3494dd77-4272-4460-9ca2-5efb2ec2d40d",
   "metadata": {},
   "outputs": [
    {
     "data": {
      "image/png": "[encoded data removed]",
      "text/plain": [
       "<Figure size 640x480 with 1 Axes>"
      ]
     },
     "metadata": {},
     "output_type": "display_data"
    }
   ],
   "source": [
    "### Fast visualization of data distribution \n",
    "import matplotlib.pyplot as plt\n",
    "import seaborn as sns \n",
    "\n",
    "sns.boxplot (y = df_products[\"product_height_cm\"] )\n",
    "plt.ylabel(\"Largo\")\n",
    "plt.title(\"Largo en centimetros\")\n",
    "plt.show()"
   ]
  },
  {
   "cell_type": "code",
   "execution_count": 212,
   "id": "04acfd80-09c2-49fe-8105-1ba50e5a99fd",
   "metadata": {},
   "outputs": [
    {
     "data": {
      "image/png": "[encoded data removed]",
      "text/plain": [
       "<Figure size 640x480 with 1 Axes>"
      ]
     },
     "metadata": {},
     "output_type": "display_data"
    }
   ],
   "source": [
    "### Fast visualization of data distribution (showfliers = False)\n",
    "import matplotlib.pyplot as plt\n",
    "import seaborn as sns \n",
    "\n",
    "sns.boxplot (y = df_products[\"product_height_cm\"], showfliers = False )\n",
    "plt.ylabel(\"Largo\")\n",
    "plt.title(\"Largo en centimetros\")\n",
    "plt.show()"
   ]
  },
  {
   "cell_type": "code",
   "execution_count": null,
   "id": "4fb5872a-bea8-4719-85a2-7b42eef41cef",
   "metadata": {},
   "outputs": [],
   "source": []
  },
  {
   "cell_type": "markdown",
   "id": "4535b0fb-dc59-4f99-b69d-23b001136e00",
   "metadata": {},
   "source": [
    "*Date columns were explored as follows*"
   ]
  },
  {
   "cell_type": "code",
   "execution_count": null,
   "id": "b9c44e2a-c2cd-4087-837f-aba1d71d6f75",
   "metadata": {},
   "outputs": [],
   "source": [
    "### Fast review of data \n",
    "df_orders[\"order_purchase_timestamp\"][:10]"
   ]
  },
  {
   "cell_type": "code",
   "execution_count": null,
   "id": "4b7450f0-cb3e-4f57-a052-1d58bc81e352",
   "metadata": {},
   "outputs": [],
   "source": [
    "### Identification of data type\n",
    "df_orders[\"order_purchase_timestamp\"].dtype"
   ]
  },
  {
   "cell_type": "code",
   "execution_count": null,
   "id": "57487c3e-9a19-48f8-9a6a-1dc4f6c47e61",
   "metadata": {},
   "outputs": [],
   "source": [
    "### Nulls count per column\n",
    "df_orders[\"order_purchase_timestamp\"].isnull().sum()"
   ]
  },
  {
   "cell_type": "code",
   "execution_count": null,
   "id": "b2882ed9-39f4-44fa-bee5-899cb236d7a6",
   "metadata": {},
   "outputs": [],
   "source": []
  },
  {
   "cell_type": "markdown",
   "id": "c151484d-4637-4527-bf65-86571896a966",
   "metadata": {},
   "source": [
    "## **EDA Conclusions**\n",
    "\n",
    "### This was detected in data as relevant prior use as input for model and the selected correction.\n",
    "\n",
    "- Nulls distribution.\n",
    "- `df_geolocation[\"geolocation_city\"]` has duplicated categories due to small variations in writing (Not in model).\n",
    "- Date columns has wrong data type.\n",
    "- `df_products[\"product_category_name\"]` has duplicated categories due to small variations in writing.\n",
    "- `df_products[\"product_category_name\"]` has \"alimentos\", \"alimentos_bebidas\", \"bebidas\". Unclear overlap.    \n",
    "- `df_sellers[\"seller_city\"]` has values that are likely an error (Not in model).\n",
    "\n",
    "### This are the conslusions for the data.\n",
    "\n",
    "- The nulls amount is relatively small, may be ereased  for esae cleniang without compromising analisis.\n",
    "- `df_geolocation[\"geolocation_city\"]` is not required in models son no cleaning process is taken.\n",
    "- `df_products[\"product_category_name\"]` has high granularity. Subcategories are not treated as issues."
   ]
  },
  {
   "cell_type": "code",
   "execution_count": null,
   "id": "06e07f22-3052-4a44-996f-e99da8d96e98",
   "metadata": {},
   "outputs": [],
   "source": []
  },
  {
   "cell_type": "markdown",
   "id": "8275d105-f72f-4d5e-9a5f-5c84d72158b4",
   "metadata": {},
   "source": [
    "## **Data Preprocesing**\n",
    "\n",
    "The following steps preprocess the data to generate two distinct inputs, one for linear models and another for tree based models."
   ]
  },
  {
   "cell_type": "code",
   "execution_count": 1,
   "id": "de5ec0c5-c8b5-4cb8-ad3f-86fd69c43673",
   "metadata": {},
   "outputs": [],
   "source": [
    "### Data preprocesing to add more FE\n",
    "\n",
    "##1 Data upload\n",
    "import pandas as pd\n",
    "\n",
    "data_path = \"../Data/\"\n",
    "\n",
    "df_customers = pd.read_csv(data_path + \"olist_customers_dataset.csv\")\n",
    "df_geolocation = pd.read_csv(data_path + \"olist_geolocation_dataset.csv\")\n",
    "df_order_items = pd.read_csv(data_path + \"olist_order_items_dataset.csv\")\n",
    "df_payments = pd.read_csv(data_path + \"olist_order_payments_dataset.csv\")\n",
    "df_reviews = pd.read_csv(data_path + \"olist_order_reviews_dataset.csv\")\n",
    "df_orders = pd.read_csv(data_path + \"olist_orders_dataset.csv\")\n",
    "df_products = pd.read_csv(data_path + \"olist_products_dataset.csv\")\n",
    "df_sellers = pd.read_csv(data_path + \"olist_sellers_dataset.csv\")\n",
    "df_category = pd.read_csv(data_path + \"product_category_name_translation.csv\")\n",
    "\n",
    "df_closed = pd.read_csv(data_path + \"olist_closed_deals_dataset.csv\")\n",
    "df_leads = pd.read_csv(data_path + \"olist_marketing_qualified_leads_dataset.csv\")\n",
    "\n",
    "#2 Table for reference\n",
    "df_Ma =  [\"df_order_items\", \"df_payments\", \"df_products\", \"df_customers\", \"df_orders\", \"df_reviews\"]\n",
    "\n",
    "#3 Data type correction in date columns\n",
    "import pandas as pd\n",
    "\n",
    "for x in df_Ma:\n",
    "    df = globals()[x]\n",
    "    for z in df.columns:\n",
    "        if z == \"order_purchase_timestamp\" or z == \"order_delivered_customer_date\" or z == \"order_estimated_delivery_date\":\n",
    "            df[z] = pd.to_datetime(df[z])\n",
    "\n",
    "#4 Preprocesing for df merge\n",
    "a = df_order_items[[ \"price\", \"freight_value\", \"order_id\", \"product_id\" ]]\n",
    "b = df_payments[[ \"payment_type\", \"payment_installments\", \"order_id\" ]]\n",
    "c = df_products[[ \"product_category_name\", \"product_weight_g\", \"product_id\" ]]\n",
    "d = df_customers[[\"customer_state\", \"customer_id\"]]\n",
    "e = df_orders[[\"order_purchase_timestamp\", \"order_delivered_customer_date\", \"customer_id\", \"order_id\", \"order_estimated_delivery_date\"]]\n",
    "f = df_reviews[[\"review_score\", \"order_id\"]]\n",
    "\n",
    "#5 df merge\n",
    "import pandas as pd\n",
    "\n",
    "TablaM = pd.merge( a, b, how = \"inner\", on = \"order_id\" )\n",
    "TablaM = pd.merge( TablaM, e, how = \"inner\", on = \"order_id\" )\n",
    "TablaM = pd.merge( TablaM, f, how = \"inner\", on = \"order_id\" )\n",
    "TablaM = pd.merge( TablaM, c, how = \"inner\", on = \"product_id\" )\n",
    "TablaM = pd.merge( TablaM, d, how = \"inner\", on = \"customer_id\" )\n",
    "\n",
    "#6 Nulls erasing\n",
    "TablaM = TablaM.dropna()\n",
    "\n",
    "#7 Convert review_score into binary target. 1 for scores < 4, 0 otherwise\n",
    "TablaM.loc[TablaM[\"review_score\"]<4, \"review_score\"] = 1\n",
    "TablaM.loc[TablaM[\"review_score\"]>=4, \"review_score\"] = 0\n",
    "\n",
    "#8 y creation\n",
    "y = TablaM[\"review_score\"]\n",
    "\n",
    "#9 x creation\n",
    "x = TablaM.drop(\"review_score\", axis = 1)\n",
    "\n",
    "#10 Duplicated categories converted \n",
    "x.loc[ x[\"product_category_name\"] == \"casa_conforto_2\" , \"product_category_name\"] = \"casa_conforto\"\n",
    "x.loc[ x[\"product_category_name\"] == \"eletrodomesticos_2\" , \"product_category_name\"] = \"eletrodomesticos\"\n",
    "\n",
    "#11 Categorical columns converted to dummies\n",
    "import pandas as pd\n",
    "cols = [\"payment_type\", \"product_category_name\", \"customer_state\"]\n",
    "x = pd.get_dummies(x, columns = cols )\n",
    "\n",
    "#12 x[\"Days_TA\"] column creation\n",
    "x[\"Days_TA\"] = (x[\"order_delivered_customer_date\"] - x[\"order_purchase_timestamp\"]).dt.days\n",
    "\n",
    "#13 x[\"Days_Early\"] column creation\n",
    "x[\"Days_Early\"] = ( x[\"order_estimated_delivery_date\"] -x[\"order_delivered_customer_date\"]  ).dt.days\n",
    "\n",
    "#14 Redundant and unnecesary columns ereased\n",
    "x = x.drop([\"order_delivered_customer_date\", \"order_purchase_timestamp\", \"order_estimated_delivery_date\"], axis = 1)\n",
    "\n",
    "#15 id columns droped due to being unnecesary for model training\n",
    "import pandas as pd\n",
    "x = x.drop ([\"order_id\", \"product_id\", \"customer_id\"], axis = 1)\n",
    "\n",
    "#16 The most frequent categories are droped as they are considered base categories. \n",
    "xS = x.copy().drop([\"product_category_name_cama_mesa_banho\", \"customer_state_SP\", \"payment_type_credit_card\"], axis = 1)\n",
    "\n",
    "#17 train and test varaibles creation (tree based models)\n",
    "from sklearn.model_selection import train_test_split\n",
    "\n",
    "x_train, x_test, y_train, y_test = train_test_split(x, y, test_size= .2, random_state = 42, stratify = y )\n",
    "\n",
    "#17B train and test varaibles creation (for linear models) \n",
    "from sklearn.model_selection import train_test_split\n",
    "\n",
    "x_trainS, x_testS, y_trainS, y_testS = train_test_split(xS, y, test_size= .2, random_state = 42, stratify = y )\n",
    "\n",
    "###18B Scaled data for linnear model \n",
    "x_trainS_columns = x_trainS.columns.copy()\n",
    "\n",
    "from sklearn.preprocessing import StandardScaler\n",
    "\n",
    "scaler = StandardScaler()\n",
    "\n",
    "cols = [\"freight_value\", \"payment_installments\", \"product_weight_g\", \"Days_Early\", \"Days_TA\"]\n",
    "\n",
    "x_trainS[cols] = scaler.fit_transform(x_trainS[cols])\n",
    "x_testS[cols] = scaler.transform(x_testS[cols])\n",
    "\n"
   ]
  },
  {
   "cell_type": "code",
   "execution_count": null,
   "id": "1a55d937-84b8-4aa0-b9e9-024c89c8ed6a",
   "metadata": {},
   "outputs": [],
   "source": []
  },
  {
   "cell_type": "markdown",
   "id": "bf8431bf-3acd-41c3-8366-db03b597928f",
   "metadata": {},
   "source": [
    "## **Model Testing**"
   ]
  },
  {
   "cell_type": "code",
   "execution_count": 3,
   "id": "d1827e1e-fd24-4eb9-b895-78029bf3f00f",
   "metadata": {
    "scrolled": true
   },
   "outputs": [
    {
     "name": "stdout",
     "output_type": "stream",
     "text": [
      "Accuracy 0.6668874464608999\n",
      "0.420939514891004\n",
      "              precision    recall  f1-score   support\n",
      "\n",
      "           0     0.8313    0.7105    0.7662     17397\n",
      "           1     0.3525    0.5223    0.4209      5250\n",
      "\n",
      "    accuracy                         0.6669     22647\n",
      "   macro avg     0.5919    0.6164    0.5936     22647\n",
      "weighted avg     0.7203    0.6669    0.6862     22647\n",
      "\n"
     ]
    }
   ],
   "source": [
    "### LogisticRegression \"balanced\"\n",
    "from sklearn.linear_model import LogisticRegression\n",
    "\n",
    "LR_B = LogisticRegression(class_weight = \"balanced\", max_iter=3000, random_state=42)\n",
    "LR_B.fit(x_trainS, y_trainS)\n",
    "y_predS = LR_B.predict(x_testS)\n",
    "\n",
    "from sklearn.metrics import accuracy_score, f1_score, classification_report\n",
    "\n",
    "print(\"Accuracy\",accuracy_score(y_testS, y_predS))\n",
    "print(f1_score(y_testS, y_predS))\n",
    "print(classification_report(y_testS, y_predS, digits=4))"
   ]
  },
  {
   "cell_type": "code",
   "execution_count": null,
   "id": "5b988e0e-0234-451f-883d-7c4022b5ab57",
   "metadata": {},
   "outputs": [],
   "source": []
  },
  {
   "cell_type": "code",
   "execution_count": 4,
   "id": "8dd2fe8a-6f61-4008-a1e3-f3cac57bfacd",
   "metadata": {},
   "outputs": [
    {
     "name": "stdout",
     "output_type": "stream",
     "text": [
      "Accuracy: 0.8492074005387027\n",
      "f1: 0.5678856130583323\n",
      "              precision    recall  f1-score   support\n",
      "\n",
      "           0     0.8497    0.9765    0.9087     17397\n",
      "           1     0.8458    0.4274    0.5679      5250\n",
      "\n",
      "    accuracy                         0.8492     22647\n",
      "   macro avg     0.8477    0.7020    0.7383     22647\n",
      "weighted avg     0.8488    0.8492    0.8297     22647\n",
      "\n"
     ]
    }
   ],
   "source": [
    "### RandomForestClassifier \"balanced\"\n",
    "from sklearn.ensemble import RandomForestClassifier\n",
    "\n",
    "RF_B = RandomForestClassifier(class_weight = \"balanced\", random_state = 42)\n",
    "RF_B.fit(x_train, y_train)\n",
    "y_pred = RF_B.predict(x_test)\n",
    "\n",
    "from sklearn.metrics import accuracy_score, f1_score, classification_report\n",
    "\n",
    "print(\"Accuracy:\",accuracy_score(y_test, y_pred))\n",
    "print(\"f1:\",f1_score(y_test, y_pred))\n",
    "print(classification_report(y_test, y_pred, digits=4))"
   ]
  },
  {
   "cell_type": "code",
   "execution_count": null,
   "id": "6de7e93c-333f-4f63-b048-81eb6d325cb7",
   "metadata": {},
   "outputs": [],
   "source": []
  },
  {
   "cell_type": "code",
   "execution_count": 5,
   "id": "539a1102-b3b7-49dc-a6bb-9ef77609faac",
   "metadata": {},
   "outputs": [
    {
     "name": "stdout",
     "output_type": "stream",
     "text": [
      "0.4000: f1:0.5804, recall:0.4766, precision:0.7420 \n",
      "0.4100: f1:0.5789, recall:0.4657, precision:0.7648 \n",
      "0.4200: f1:0.5777, recall:0.4598, precision:0.7767 \n",
      "0.4300: f1:0.5765, recall:0.4541, precision:0.7891 \n"
     ]
    }
   ],
   "source": [
    "### Proba variations testing with restrictions (RF_B)\n",
    "import numpy as np\n",
    "\n",
    "from sklearn.metrics import precision_score, recall_score, f1_score\n",
    "\n",
    "proba = RF_B.predict_proba(x_test)[:, 1]\n",
    "for z in np.arange(0.4, 0.5, 0.01):\n",
    "    y_pred_thresh = (proba >= z).astype(int)\n",
    "    precision = precision_score(y_test, y_pred_thresh)\n",
    "    recall = recall_score(y_test, y_pred_thresh)\n",
    "    if (precision >= .7) and (recall>=.45):\n",
    "        f1 = f1_score(y_test, y_pred_thresh)\n",
    "        print (f\"{z:.4f}: f1:{f1:.4f}, recall:{recall:.4f}, precision:{precision:.4f} \")"
   ]
  },
  {
   "cell_type": "markdown",
   "id": "666664fe-87be-42eb-9133-020e7bea43f3",
   "metadata": {},
   "source": [
    "**`Threshold = .43` is the optimized value for the `RF_B` model** \n",
    "\n",
    "**Class 1** \n",
    "- *0.43*| **f1**: *57.65%*, **recall:** *45.41%*, **precision:** *78.91%*"
   ]
  },
  {
   "cell_type": "code",
   "execution_count": null,
   "id": "73b4a19c-cca0-4d55-869a-217d38c927f6",
   "metadata": {},
   "outputs": [],
   "source": []
  },
  {
   "cell_type": "code",
   "execution_count": 7,
   "id": "fc068be7-ffc3-47cd-be0c-1919b33df0b9",
   "metadata": {},
   "outputs": [
    {
     "name": "stdout",
     "output_type": "stream",
     "text": [
      "Fitting 5 folds for each of 12 candidates, totalling 60 fits\n",
      "f1_score: 0.5718489455615497\n",
      "accuracy_score: 0.845807391707511\n",
      "              precision    recall  f1-score   support\n",
      "\n",
      "           0     0.8522    0.9670    0.9060     17397\n",
      "           1     0.8025    0.4442    0.5718      5250\n",
      "\n",
      "    accuracy                         0.8458     22647\n",
      "   macro avg     0.8273    0.7056    0.7389     22647\n",
      "weighted avg     0.8407    0.8458    0.8285     22647\n",
      "\n"
     ]
    }
   ],
   "source": [
    "### Basic Tuning for selected model testing\n",
    "from sklearn.ensemble import RandomForestClassifier\n",
    "from sklearn.model_selection import GridSearchCV\n",
    "from sklearn.metrics import classification_report, f1_score, accuracy_score\n",
    "\n",
    "\n",
    "RF_B_T = RandomForestClassifier(random_state=42, class_weight='balanced')\n",
    "\n",
    "param_grid = {\n",
    "    'n_estimators': [100, 200],        \n",
    "    'max_depth': [None, 10, 20],       \n",
    "    'min_samples_split': [2, 5],       \n",
    "}\n",
    "\n",
    "grid = GridSearchCV(\n",
    "    RF_B_T,\n",
    "    param_grid,\n",
    "    scoring='f1',  \n",
    "    cv=5,\n",
    "    n_jobs=-1,\n",
    "    verbose=1\n",
    ")\n",
    "\n",
    "grid.fit(x_train, y_train)\n",
    "\n",
    "RF_B_T = grid.best_estimator_\n",
    "y_pred = RF_B_T.predict(x_test)\n",
    "\n",
    "# Performance Evaluation\n",
    "print('f1_score:', f1_score(y_test, y_pred, average='binary'))\n",
    "print('accuracy_score:', accuracy_score(y_test, y_pred))\n",
    "print(classification_report(y_test, y_pred, digits=4))"
   ]
  },
  {
   "cell_type": "code",
   "execution_count": 8,
   "id": "15d6c4e2-c239-4d63-84c6-3c34f3c1c59d",
   "metadata": {},
   "outputs": [
    {
     "name": "stdout",
     "output_type": "stream",
     "text": [
      "0.4200: f1:0.5822, recall:0.4954, precision:0.7058 \n",
      "0.4300: f1:0.5815, recall:0.4878, precision:0.7198 \n",
      "0.4400: f1:0.5805, recall:0.4806, precision:0.7328 \n",
      "0.4500: f1:0.5792, recall:0.4731, precision:0.7466 \n",
      "0.4600: f1:0.5775, recall:0.4669, precision:0.7567 \n",
      "0.4700: f1:0.5750, recall:0.4594, precision:0.7684 \n",
      "0.4800: f1:0.5745, recall:0.4545, precision:0.7805 \n"
     ]
    }
   ],
   "source": [
    "### Proba variations testing with restrictions (RF_B_T)\n",
    "import numpy as np\n",
    "\n",
    "from sklearn.metrics import precision_score, recall_score, f1_score\n",
    "\n",
    "proba = RF_B_T.predict_proba(x_test)[:, 1]\n",
    "for z in np.arange(0.4, 0.5, 0.01):\n",
    "    y_pred_thresh = (proba >= z).astype(int)\n",
    "    precision = precision_score(y_test, y_pred_thresh)\n",
    "    recall = recall_score(y_test, y_pred_thresh)\n",
    "    if (precision >= .7) and (recall>=.45):\n",
    "        f1 = f1_score(y_test, y_pred_thresh)\n",
    "        print (f\"{z:.4f}: f1:{f1:.4f}, recall:{recall:.4f}, precision:{precision:.4f} \")"
   ]
  },
  {
   "cell_type": "code",
   "execution_count": null,
   "id": "b1fd897d-3438-463b-9788-5f264bd17d70",
   "metadata": {},
   "outputs": [],
   "source": []
  },
  {
   "cell_type": "markdown",
   "id": "126d95f2-2dae-43b6-ab5d-cd211cef63b8",
   "metadata": {},
   "source": [
    "**Best model saving** (below)"
   ]
  },
  {
   "cell_type": "code",
   "execution_count": 84,
   "id": "920ebb6b-6452-4db8-a91e-3ab32c48c2f7",
   "metadata": {},
   "outputs": [
    {
     "data": {
      "text/plain": [
       "['RF_B_model.pkl']"
      ]
     },
     "execution_count": 84,
     "metadata": {},
     "output_type": "execute_result"
    }
   ],
   "source": [
    "import joblib\n",
    "joblib.dump(RF_B, 'RF_B_model.pkl')"
   ]
  },
  {
   "cell_type": "code",
   "execution_count": null,
   "id": "61a7d6da-6f55-4080-87c5-c7a382750a9c",
   "metadata": {},
   "outputs": [],
   "source": []
  },
  {
   "cell_type": "markdown",
   "id": "324ed967-17a0-4be3-b667-0ca59f5838f6",
   "metadata": {},
   "source": [
    "## Model Implementation\n",
    "Once model has been selected, below is the learning extracted from the model "
   ]
  },
  {
   "cell_type": "code",
   "execution_count": null,
   "id": "3b096185-93d2-4c8a-9317-3789d2550763",
   "metadata": {},
   "outputs": [],
   "source": []
  },
  {
   "cell_type": "markdown",
   "id": "927d25b0-b04f-4cac-a05e-59d63c0b161d",
   "metadata": {},
   "source": [
    "### Permutation Importance Features Anlysis "
   ]
  },
  {
   "cell_type": "code",
   "execution_count": 9,
   "id": "7577e30c-e268-4b2c-9ec5-252e7e0da6b3",
   "metadata": {},
   "outputs": [
    {
     "data": {
      "text/html": [
       "<div>\n",
       "<style scoped>\n",
       "    .dataframe tbody tr th:only-of-type {\n",
       "        vertical-align: middle;\n",
       "    }\n",
       "\n",
       "    .dataframe tbody tr th {\n",
       "        vertical-align: top;\n",
       "    }\n",
       "\n",
       "    .dataframe thead th {\n",
       "        text-align: right;\n",
       "    }\n",
       "</style>\n",
       "<table border=\"1\" class=\"dataframe\">\n",
       "  <thead>\n",
       "    <tr style=\"text-align: right;\">\n",
       "      <th></th>\n",
       "      <th>Feature</th>\n",
       "      <th>Importance</th>\n",
       "    </tr>\n",
       "  </thead>\n",
       "  <tbody>\n",
       "    <tr>\n",
       "      <th>50</th>\n",
       "      <td>product_category_name_informatica_acessorios</td>\n",
       "      <td>0.037012</td>\n",
       "    </tr>\n",
       "    <tr>\n",
       "      <th>89</th>\n",
       "      <td>customer_state_MG</td>\n",
       "      <td>0.037967</td>\n",
       "    </tr>\n",
       "    <tr>\n",
       "      <th>19</th>\n",
       "      <td>product_category_name_beleza_saude</td>\n",
       "      <td>0.038469</td>\n",
       "    </tr>\n",
       "    <tr>\n",
       "      <th>5</th>\n",
       "      <td>payment_type_credit_card</td>\n",
       "      <td>0.044957</td>\n",
       "    </tr>\n",
       "    <tr>\n",
       "      <th>60</th>\n",
       "      <td>product_category_name_moveis_decoracao</td>\n",
       "      <td>0.046423</td>\n",
       "    </tr>\n",
       "    <tr>\n",
       "      <th>4</th>\n",
       "      <td>payment_type_boleto</td>\n",
       "      <td>0.048315</td>\n",
       "    </tr>\n",
       "    <tr>\n",
       "      <th>97</th>\n",
       "      <td>customer_state_RJ</td>\n",
       "      <td>0.072848</td>\n",
       "    </tr>\n",
       "    <tr>\n",
       "      <th>21</th>\n",
       "      <td>product_category_name_cama_mesa_banho</td>\n",
       "      <td>0.079534</td>\n",
       "    </tr>\n",
       "    <tr>\n",
       "      <th>104</th>\n",
       "      <td>customer_state_SP</td>\n",
       "      <td>0.168755</td>\n",
       "    </tr>\n",
       "    <tr>\n",
       "      <th>2</th>\n",
       "      <td>payment_installments</td>\n",
       "      <td>0.240738</td>\n",
       "    </tr>\n",
       "    <tr>\n",
       "      <th>1</th>\n",
       "      <td>freight_value</td>\n",
       "      <td>0.302116</td>\n",
       "    </tr>\n",
       "    <tr>\n",
       "      <th>3</th>\n",
       "      <td>product_weight_g</td>\n",
       "      <td>0.309923</td>\n",
       "    </tr>\n",
       "    <tr>\n",
       "      <th>0</th>\n",
       "      <td>price</td>\n",
       "      <td>0.339294</td>\n",
       "    </tr>\n",
       "    <tr>\n",
       "      <th>106</th>\n",
       "      <td>Days_TA</td>\n",
       "      <td>0.429831</td>\n",
       "    </tr>\n",
       "    <tr>\n",
       "      <th>107</th>\n",
       "      <td>Days_Early</td>\n",
       "      <td>0.432471</td>\n",
       "    </tr>\n",
       "  </tbody>\n",
       "</table>\n",
       "</div>"
      ],
      "text/plain": [
       "                                          Feature  Importance\n",
       "50   product_category_name_informatica_acessorios    0.037012\n",
       "89                              customer_state_MG    0.037967\n",
       "19             product_category_name_beleza_saude    0.038469\n",
       "5                        payment_type_credit_card    0.044957\n",
       "60         product_category_name_moveis_decoracao    0.046423\n",
       "4                             payment_type_boleto    0.048315\n",
       "97                              customer_state_RJ    0.072848\n",
       "21          product_category_name_cama_mesa_banho    0.079534\n",
       "104                             customer_state_SP    0.168755\n",
       "2                            payment_installments    0.240738\n",
       "1                                   freight_value    0.302116\n",
       "3                                product_weight_g    0.309923\n",
       "0                                           price    0.339294\n",
       "106                                       Days_TA    0.429831\n",
       "107                                    Days_Early    0.432471"
      ]
     },
     "execution_count": 9,
     "metadata": {},
     "output_type": "execute_result"
    }
   ],
   "source": [
    "### Used for interpretability in final model \n",
    "from sklearn.inspection import permutation_importance\n",
    "\n",
    "result = permutation_importance(RF_B, x_train, y_train, scoring='f1', n_repeats=5, random_state=42, n_jobs=-1)\n",
    "importances_df = pd.DataFrame({\n",
    "    'Feature': x_train.columns,\n",
    "    'Importance': result.importances_mean\n",
    "}).sort_values(by = \"Importance\")\n",
    "importances_df[-15:]"
   ]
  },
  {
   "cell_type": "code",
   "execution_count": 22,
   "id": "7f95fddf-f8b0-48ea-b86b-f30f91ff468b",
   "metadata": {},
   "outputs": [],
   "source": [
    "### Importances converted to csv\n",
    "importances_df[-15:].to_csv(\"importances_df_RF_B_15.csv\", index = False) "
   ]
  },
  {
   "cell_type": "code",
   "execution_count": null,
   "id": "f6ec8961-617e-4623-95d2-0c10670fd49c",
   "metadata": {},
   "outputs": [],
   "source": []
  },
  {
   "cell_type": "markdown",
   "id": "6ad72a1b-43d3-4c31-8c46-2e1005f0bc64",
   "metadata": {},
   "source": [
    "### Volume Of Appearances Per Combination"
   ]
  },
  {
   "cell_type": "code",
   "execution_count": 12,
   "id": "ebbd1752-bafc-4266-85c3-2e7f858d5502",
   "metadata": {},
   "outputs": [
    {
     "name": "stdout",
     "output_type": "stream",
     "text": [
      "LateArrival_BadReview:21.81%\n",
      "OnTimeArrival_BadReview:1.38%\n",
      "EarlyArrival_BadReview:76.81%\n",
      "LateArrival_GoodReview:3.44%\n",
      "OnTimeArrival_GoodReview:1.46%\n",
      "EarlyArrival_GoodReview:95.10%\n"
     ]
    }
   ],
   "source": [
    "### Distribution for early/late arrivals between bad and good reviews\n",
    "LateArrival_BadReview = ((x[\"Days_Early\"]<0) & (y==1)).sum()/y.value_counts()[1]\n",
    "OnTimeArrival_BadReview = ((x[\"Days_Early\"]==0) & (y==1)).sum()/y.value_counts()[1]\n",
    "EarlyArrival_BadReview = ((x[\"Days_Early\"]>0) & (y==1)).sum()/y.value_counts()[1]\n",
    "LateArrival_GoodReview = ((x[\"Days_Early\"]<0) & (y==0)).sum()/y.value_counts()[0]\n",
    "OnTimeArrival_GoodReview = ((x[\"Days_Early\"]==0) & (y==0)).sum()/y.value_counts()[0]\n",
    "EarlyArrival_GoodReview = ((x[\"Days_Early\"]>0) & (y==0)).sum()/y.value_counts()[0]\n",
    "\n",
    "print(f\"LateArrival_BadReview:{LateArrival_BadReview*100:.2f}%\\nOnTimeArrival_BadReview:{OnTimeArrival_BadReview*100:.2f}%\\nEarlyArrival_BadReview:{EarlyArrival_BadReview*100:.2f}%\\nLateArrival_GoodReview:{LateArrival_GoodReview*100:.2f}%\\nOnTimeArrival_GoodReview:{OnTimeArrival_GoodReview*100:.2f}%\\nEarlyArrival_GoodReview:{EarlyArrival_GoodReview*100:.2f}%\")"
   ]
  },
  {
   "cell_type": "code",
   "execution_count": null,
   "id": "fe4df5cf-86e4-4903-9cbd-f0b71b87e466",
   "metadata": {},
   "outputs": [],
   "source": []
  },
  {
   "cell_type": "markdown",
   "id": "d0f10b3a-ab4d-4f24-97b7-75a8436c1775",
   "metadata": {},
   "source": [
    "### Correlation Between Location Features and Days Features"
   ]
  },
  {
   "cell_type": "code",
   "execution_count": 13,
   "id": "a52eb6d5-618e-47e1-b038-d476a2dde62d",
   "metadata": {},
   "outputs": [],
   "source": [
    "TablaM[\"Days_Early\"] = (TablaM[\"order_estimated_delivery_date\"] - TablaM[\"order_delivered_customer_date\"]).dt.days\n",
    "TablaM[\"Days_TA\"] = (TablaM[\"order_delivered_customer_date\"] - TablaM[\"order_purchase_timestamp\"]).dt.days"
   ]
  },
  {
   "cell_type": "code",
   "execution_count": 14,
   "id": "56bd509b-2d3f-4e3b-958f-aefcd24bfd7d",
   "metadata": {},
   "outputs": [],
   "source": [
    "A = TablaM.groupby(\"customer_state\")[\"Days_TA\"].mean()\n",
    "B = TablaM.groupby(\"customer_state\")[\"Days_TA\"].std()\n",
    "C = TablaM.groupby(\"customer_state\")[\"Days_Early\"].mean()\n",
    "G = importances_df[importances_df[\"Feature\"].str.contains(\"customer_state_\")].copy()\n",
    "G[\"Feature\"] = G[\"Feature\"].str.replace(\"customer_state_\", \"\")"
   ]
  },
  {
   "cell_type": "code",
   "execution_count": 15,
   "id": "7906784b-466f-45ea-87f7-0b69d6d2e4cf",
   "metadata": {},
   "outputs": [],
   "source": [
    "A = A.to_frame(name=\"Days_TA_AVG\")\n",
    "A[\"Feature\"] = A.index\n",
    "B = B.to_frame(name=\"Days_TA_DSV\")\n",
    "B[\"Feature\"] = B.index\n",
    "C = C.to_frame(name=\"Days_Early_AVG\")\n",
    "C[\"Feature\"] = C.index"
   ]
  },
  {
   "cell_type": "code",
   "execution_count": 18,
   "id": "f7de1581-615f-4941-8f51-f0eb9b83f08e",
   "metadata": {},
   "outputs": [],
   "source": [
    "import pandas as pd\n",
    "\n",
    "TableYJH = pd.merge( A, B, how = \"inner\", on = \"Feature\" )\n",
    "TableYJH = pd.merge( TableYJH, C, how = \"inner\", on = \"Feature\" )\n",
    "TableYJH = pd.merge( TableYJH, G, how = \"inner\", on = \"Feature\" )"
   ]
  },
  {
   "cell_type": "code",
   "execution_count": 20,
   "id": "7d824031-8177-4c14-ba34-938d9f1eaf75",
   "metadata": {},
   "outputs": [
    {
     "data": {
      "text/html": [
       "<div>\n",
       "<style scoped>\n",
       "    .dataframe tbody tr th:only-of-type {\n",
       "        vertical-align: middle;\n",
       "    }\n",
       "\n",
       "    .dataframe tbody tr th {\n",
       "        vertical-align: top;\n",
       "    }\n",
       "\n",
       "    .dataframe thead th {\n",
       "        text-align: right;\n",
       "    }\n",
       "</style>\n",
       "<table border=\"1\" class=\"dataframe\">\n",
       "  <thead>\n",
       "    <tr style=\"text-align: right;\">\n",
       "      <th></th>\n",
       "      <th>Feature</th>\n",
       "      <th>Days_TA_AVG</th>\n",
       "      <th>Days_TA_DSV</th>\n",
       "      <th>Days_Early_AVG</th>\n",
       "      <th>ImportancePTS</th>\n",
       "    </tr>\n",
       "  </thead>\n",
       "  <tbody>\n",
       "    <tr>\n",
       "      <th>3</th>\n",
       "      <td>AP</td>\n",
       "      <td>27.62</td>\n",
       "      <td>26.52</td>\n",
       "      <td>17.67</td>\n",
       "      <td>0.01</td>\n",
       "    </tr>\n",
       "    <tr>\n",
       "      <th>0</th>\n",
       "      <td>AC</td>\n",
       "      <td>20.15</td>\n",
       "      <td>10.40</td>\n",
       "      <td>20.28</td>\n",
       "      <td>0.01</td>\n",
       "    </tr>\n",
       "    <tr>\n",
       "      <th>21</th>\n",
       "      <td>RR</td>\n",
       "      <td>27.86</td>\n",
       "      <td>27.23</td>\n",
       "      <td>17.50</td>\n",
       "      <td>0.01</td>\n",
       "    </tr>\n",
       "    <tr>\n",
       "      <th>2</th>\n",
       "      <td>AM</td>\n",
       "      <td>25.96</td>\n",
       "      <td>13.32</td>\n",
       "      <td>18.83</td>\n",
       "      <td>0.02</td>\n",
       "    </tr>\n",
       "    <tr>\n",
       "      <th>24</th>\n",
       "      <td>SE</td>\n",
       "      <td>20.78</td>\n",
       "      <td>15.92</td>\n",
       "      <td>9.04</td>\n",
       "      <td>0.06</td>\n",
       "    </tr>\n",
       "    <tr>\n",
       "      <th>20</th>\n",
       "      <td>RO</td>\n",
       "      <td>19.36</td>\n",
       "      <td>8.11</td>\n",
       "      <td>18.88</td>\n",
       "      <td>0.06</td>\n",
       "    </tr>\n",
       "    <tr>\n",
       "      <th>26</th>\n",
       "      <td>TO</td>\n",
       "      <td>16.68</td>\n",
       "      <td>7.45</td>\n",
       "      <td>11.46</td>\n",
       "      <td>0.06</td>\n",
       "    </tr>\n",
       "    <tr>\n",
       "      <th>19</th>\n",
       "      <td>RN</td>\n",
       "      <td>19.22</td>\n",
       "      <td>12.94</td>\n",
       "      <td>12.67</td>\n",
       "      <td>0.07</td>\n",
       "    </tr>\n",
       "    <tr>\n",
       "      <th>1</th>\n",
       "      <td>AL</td>\n",
       "      <td>24.00</td>\n",
       "      <td>11.65</td>\n",
       "      <td>7.70</td>\n",
       "      <td>0.08</td>\n",
       "    </tr>\n",
       "    <tr>\n",
       "      <th>14</th>\n",
       "      <td>PB</td>\n",
       "      <td>19.95</td>\n",
       "      <td>10.21</td>\n",
       "      <td>12.24</td>\n",
       "      <td>0.13</td>\n",
       "    </tr>\n",
       "    <tr>\n",
       "      <th>16</th>\n",
       "      <td>PI</td>\n",
       "      <td>18.88</td>\n",
       "      <td>14.17</td>\n",
       "      <td>10.50</td>\n",
       "      <td>0.13</td>\n",
       "    </tr>\n",
       "    <tr>\n",
       "      <th>9</th>\n",
       "      <td>MA</td>\n",
       "      <td>21.09</td>\n",
       "      <td>10.98</td>\n",
       "      <td>9.02</td>\n",
       "      <td>0.19</td>\n",
       "    </tr>\n",
       "    <tr>\n",
       "      <th>11</th>\n",
       "      <td>MS</td>\n",
       "      <td>15.06</td>\n",
       "      <td>7.43</td>\n",
       "      <td>10.23</td>\n",
       "      <td>0.19</td>\n",
       "    </tr>\n",
       "    <tr>\n",
       "      <th>12</th>\n",
       "      <td>MT</td>\n",
       "      <td>17.41</td>\n",
       "      <td>8.03</td>\n",
       "      <td>13.51</td>\n",
       "      <td>0.22</td>\n",
       "    </tr>\n",
       "    <tr>\n",
       "      <th>13</th>\n",
       "      <td>PA</td>\n",
       "      <td>23.02</td>\n",
       "      <td>12.94</td>\n",
       "      <td>13.50</td>\n",
       "      <td>0.24</td>\n",
       "    </tr>\n",
       "    <tr>\n",
       "      <th>5</th>\n",
       "      <td>CE</td>\n",
       "      <td>20.20</td>\n",
       "      <td>12.63</td>\n",
       "      <td>10.44</td>\n",
       "      <td>0.32</td>\n",
       "    </tr>\n",
       "    <tr>\n",
       "      <th>15</th>\n",
       "      <td>PE</td>\n",
       "      <td>17.70</td>\n",
       "      <td>10.63</td>\n",
       "      <td>12.60</td>\n",
       "      <td>0.40</td>\n",
       "    </tr>\n",
       "    <tr>\n",
       "      <th>7</th>\n",
       "      <td>ES</td>\n",
       "      <td>15.08</td>\n",
       "      <td>9.37</td>\n",
       "      <td>9.79</td>\n",
       "      <td>0.54</td>\n",
       "    </tr>\n",
       "    <tr>\n",
       "      <th>6</th>\n",
       "      <td>DF</td>\n",
       "      <td>12.49</td>\n",
       "      <td>7.33</td>\n",
       "      <td>11.16</td>\n",
       "      <td>0.62</td>\n",
       "    </tr>\n",
       "    <tr>\n",
       "      <th>8</th>\n",
       "      <td>GO</td>\n",
       "      <td>14.79</td>\n",
       "      <td>8.76</td>\n",
       "      <td>11.45</td>\n",
       "      <td>0.63</td>\n",
       "    </tr>\n",
       "    <tr>\n",
       "      <th>23</th>\n",
       "      <td>SC</td>\n",
       "      <td>14.38</td>\n",
       "      <td>8.55</td>\n",
       "      <td>10.73</td>\n",
       "      <td>0.97</td>\n",
       "    </tr>\n",
       "    <tr>\n",
       "      <th>17</th>\n",
       "      <td>PR</td>\n",
       "      <td>11.50</td>\n",
       "      <td>6.97</td>\n",
       "      <td>12.50</td>\n",
       "      <td>1.54</td>\n",
       "    </tr>\n",
       "    <tr>\n",
       "      <th>22</th>\n",
       "      <td>RS</td>\n",
       "      <td>14.68</td>\n",
       "      <td>9.19</td>\n",
       "      <td>13.24</td>\n",
       "      <td>1.58</td>\n",
       "    </tr>\n",
       "    <tr>\n",
       "      <th>4</th>\n",
       "      <td>BA</td>\n",
       "      <td>18.68</td>\n",
       "      <td>11.33</td>\n",
       "      <td>10.05</td>\n",
       "      <td>1.66</td>\n",
       "    </tr>\n",
       "    <tr>\n",
       "      <th>10</th>\n",
       "      <td>MG</td>\n",
       "      <td>11.48</td>\n",
       "      <td>7.04</td>\n",
       "      <td>12.39</td>\n",
       "      <td>3.80</td>\n",
       "    </tr>\n",
       "    <tr>\n",
       "      <th>18</th>\n",
       "      <td>RJ</td>\n",
       "      <td>14.72</td>\n",
       "      <td>11.24</td>\n",
       "      <td>11.08</td>\n",
       "      <td>7.28</td>\n",
       "    </tr>\n",
       "    <tr>\n",
       "      <th>25</th>\n",
       "      <td>SP</td>\n",
       "      <td>8.26</td>\n",
       "      <td>6.73</td>\n",
       "      <td>10.26</td>\n",
       "      <td>16.88</td>\n",
       "    </tr>\n",
       "  </tbody>\n",
       "</table>\n",
       "</div>"
      ],
      "text/plain": [
       "   Feature  Days_TA_AVG  Days_TA_DSV  Days_Early_AVG  ImportancePTS\n",
       "3       AP        27.62        26.52           17.67           0.01\n",
       "0       AC        20.15        10.40           20.28           0.01\n",
       "21      RR        27.86        27.23           17.50           0.01\n",
       "2       AM        25.96        13.32           18.83           0.02\n",
       "24      SE        20.78        15.92            9.04           0.06\n",
       "20      RO        19.36         8.11           18.88           0.06\n",
       "26      TO        16.68         7.45           11.46           0.06\n",
       "19      RN        19.22        12.94           12.67           0.07\n",
       "1       AL        24.00        11.65            7.70           0.08\n",
       "14      PB        19.95        10.21           12.24           0.13\n",
       "16      PI        18.88        14.17           10.50           0.13\n",
       "9       MA        21.09        10.98            9.02           0.19\n",
       "11      MS        15.06         7.43           10.23           0.19\n",
       "12      MT        17.41         8.03           13.51           0.22\n",
       "13      PA        23.02        12.94           13.50           0.24\n",
       "5       CE        20.20        12.63           10.44           0.32\n",
       "15      PE        17.70        10.63           12.60           0.40\n",
       "7       ES        15.08         9.37            9.79           0.54\n",
       "6       DF        12.49         7.33           11.16           0.62\n",
       "8       GO        14.79         8.76           11.45           0.63\n",
       "23      SC        14.38         8.55           10.73           0.97\n",
       "17      PR        11.50         6.97           12.50           1.54\n",
       "22      RS        14.68         9.19           13.24           1.58\n",
       "4       BA        18.68        11.33           10.05           1.66\n",
       "10      MG        11.48         7.04           12.39           3.80\n",
       "18      RJ        14.72        11.24           11.08           7.28\n",
       "25      SP         8.26         6.73           10.26          16.88"
      ]
     },
     "execution_count": 20,
     "metadata": {},
     "output_type": "execute_result"
    }
   ],
   "source": [
    "TableYJH = TableYJH[[\"Feature\", \"Days_TA_AVG\", \"Days_TA_DSV\", \"Days_Early_AVG\", \"Importance\"]].sort_values(\"Importance\")\n",
    "TableYJH[\"ImportancePTS\"] = TableYJH[\"Importance\"]*100\n",
    "TableYJH = TableYJH.drop(\"Importance\", axis = 1)\n",
    "TableYJH = TableYJH.round(2)\n",
    "TableYJH"
   ]
  },
  {
   "cell_type": "code",
   "execution_count": 24,
   "id": "83a891c5-6f75-4752-9940-276b0354e9e0",
   "metadata": {},
   "outputs": [],
   "source": [
    "TablaYJH.to_csv(\"TablaYJH.csv\", index = False)"
   ]
  },
  {
   "cell_type": "code",
   "execution_count": null,
   "id": "c4feda35-8236-4423-8eca-07f53415c381",
   "metadata": {},
   "outputs": [],
   "source": []
  },
  {
   "cell_type": "code",
   "execution_count": null,
   "id": "f2e9bf23-89cf-4337-8e11-db6fe2e88aa0",
   "metadata": {},
   "outputs": [],
   "source": []
  },
  {
   "cell_type": "code",
   "execution_count": null,
   "id": "84cd4c2f-19ef-41af-a049-1792aee504d5",
   "metadata": {},
   "outputs": [],
   "source": []
  },
  {
   "cell_type": "code",
   "execution_count": null,
   "id": "ff130e58-79fa-4aee-90bd-731c1df1780b",
   "metadata": {},
   "outputs": [],
   "source": []
  },
  {
   "cell_type": "code",
   "execution_count": null,
   "id": "da4c5501-0466-4b4e-8f4e-9b3b9370ce10",
   "metadata": {},
   "outputs": [],
   "source": []
  },
  {
   "cell_type": "code",
   "execution_count": null,
   "id": "2f77f340-e8b1-4f9c-b5c7-78ec8706cf7d",
   "metadata": {},
   "outputs": [],
   "source": []
  },
  {
   "cell_type": "markdown",
   "id": "4b61c635-ade6-4a47-b99f-123031d4de54",
   "metadata": {},
   "source": [
    "# Project Conclusions\n",
    "\n",
    "- The most effective model was `RF_B`, achieving solid results with **F1**:57.65%, **Recall**:45.41%, and **Precision**:78.91% using a calibrated *threshold of 0.43*. These values meet the project’s dual goal maintaining recall above 45% and precision above 70%.\n",
    "\n",
    "- The most influential features are related to delivery timing. `Days_Early` stands out as the single most important variable, suggesting that the positive surprise of early delivery plays a key role in customer satisfaction.\n",
    "\n",
    "- Other top-ranked features, such as `Days_TA` and *customer location (state)*, appear to influence delivery timing either by increasing the opportunity window for early arrival or by reflecting logistical factors tied to geography. This indicates that these variables matter *not because of the customer’s profile, but because they are proxies for delivery expectations*.\n",
    "\n",
    "- The overall pattern suggests that **meeting or failing to meet customer expectations** is the key driver of review outcomes. While the product itself likely generates clear expectations through its price, images, and description, it is the **delivery experience that holds the greatest risk of disappointing or delighting the customer**.\n",
    "\n",
    "- Finally, although several features may be interrelated, collinearity is not a concern in this case since Random Forest models handle such relationships well without negative impact."
   ]
  },
  {
   "cell_type": "code",
   "execution_count": null,
   "id": "12c11da8-2210-4e86-adf6-0d64171266b4",
   "metadata": {},
   "outputs": [],
   "source": []
  },
  {
   "cell_type": "markdown",
   "id": "f11ff9c7-0450-410d-bd9e-cbe02be52518",
   "metadata": {},
   "source": [
    "# Useful data for dashboard\n",
    "\n",
    "    Code below is useufl for the dashboard"
   ]
  },
  {
   "cell_type": "code",
   "execution_count": null,
   "id": "73f14149-d0a0-450d-aa8b-d829283ef674",
   "metadata": {},
   "outputs": [],
   "source": []
  },
  {
   "cell_type": "code",
   "execution_count": 26,
   "id": "22cdf46b-cf40-4cd3-84d6-6cb11caa53c4",
   "metadata": {},
   "outputs": [
    {
     "data": {
      "text/html": [
       "<div>\n",
       "<style scoped>\n",
       "    .dataframe tbody tr th:only-of-type {\n",
       "        vertical-align: middle;\n",
       "    }\n",
       "\n",
       "    .dataframe tbody tr th {\n",
       "        vertical-align: top;\n",
       "    }\n",
       "\n",
       "    .dataframe thead th {\n",
       "        text-align: right;\n",
       "    }\n",
       "</style>\n",
       "<table border=\"1\" class=\"dataframe\">\n",
       "  <thead>\n",
       "    <tr style=\"text-align: right;\">\n",
       "      <th></th>\n",
       "      <th>Flag_EA</th>\n",
       "      <th>Target</th>\n",
       "    </tr>\n",
       "  </thead>\n",
       "  <tbody>\n",
       "    <tr>\n",
       "      <th>0</th>\n",
       "      <td>1</td>\n",
       "      <td>0</td>\n",
       "    </tr>\n",
       "    <tr>\n",
       "      <th>1</th>\n",
       "      <td>1</td>\n",
       "      <td>0</td>\n",
       "    </tr>\n",
       "    <tr>\n",
       "      <th>2</th>\n",
       "      <td>1</td>\n",
       "      <td>0</td>\n",
       "    </tr>\n",
       "    <tr>\n",
       "      <th>3</th>\n",
       "      <td>1</td>\n",
       "      <td>0</td>\n",
       "    </tr>\n",
       "    <tr>\n",
       "      <th>4</th>\n",
       "      <td>1</td>\n",
       "      <td>0</td>\n",
       "    </tr>\n",
       "    <tr>\n",
       "      <th>5</th>\n",
       "      <td>1</td>\n",
       "      <td>0</td>\n",
       "    </tr>\n",
       "    <tr>\n",
       "      <th>6</th>\n",
       "      <td>1</td>\n",
       "      <td>0</td>\n",
       "    </tr>\n",
       "    <tr>\n",
       "      <th>7</th>\n",
       "      <td>1</td>\n",
       "      <td>0</td>\n",
       "    </tr>\n",
       "    <tr>\n",
       "      <th>8</th>\n",
       "      <td>0</td>\n",
       "      <td>1</td>\n",
       "    </tr>\n",
       "    <tr>\n",
       "      <th>9</th>\n",
       "      <td>1</td>\n",
       "      <td>0</td>\n",
       "    </tr>\n",
       "  </tbody>\n",
       "</table>\n",
       "</div>"
      ],
      "text/plain": [
       "   Flag_EA  Target\n",
       "0        1       0\n",
       "1        1       0\n",
       "2        1       0\n",
       "3        1       0\n",
       "4        1       0\n",
       "5        1       0\n",
       "6        1       0\n",
       "7        1       0\n",
       "8        0       1\n",
       "9        1       0"
      ]
     },
     "execution_count": 26,
     "metadata": {},
     "output_type": "execute_result"
    }
   ],
   "source": [
    "### Table for Flag on Early Arrivals creation\n",
    "x[\"Flag_EA\"] = (x[\"Days_Early\"]>0).astype(int)\n",
    "Flag = x[[\"Flag_EA\"]].copy()\n",
    "Flag[\"Target\"] = y\n",
    "Flag[:10]"
   ]
  },
  {
   "cell_type": "code",
   "execution_count": 28,
   "id": "66a2b127-030b-4c0b-94d3-083854deb29a",
   "metadata": {},
   "outputs": [],
   "source": [
    "### Table converted to csv\n",
    "Flag.to_csv(\"Flag_Table.csv\", index=False)"
   ]
  },
  {
   "cell_type": "code",
   "execution_count": null,
   "id": "a51c18f9-7fa0-45b0-baf5-06cde141a7d5",
   "metadata": {},
   "outputs": [],
   "source": []
  },
  {
   "cell_type": "code",
   "execution_count": null,
   "id": "e9f2a283-87e6-4438-b4fb-44cd7dcd6bf7",
   "metadata": {},
   "outputs": [],
   "source": []
  },
  {
   "cell_type": "code",
   "execution_count": null,
   "id": "ff48098c-6179-4d7a-84b9-e065cb6a7f17",
   "metadata": {},
   "outputs": [],
   "source": []
  },
  {
   "cell_type": "markdown",
   "id": "7386a418-302e-4e81-8513-41d75357d362",
   "metadata": {},
   "source": [
    "# Experimental Playground\n",
    "\n",
    "As mentioned before, this is a work in progress and optimization is ongoing. While diminishing returns on new findings will eventually be reached, it is still useful to continue exploring. This involves testing multiple ideas. Below is the code used for that purpose. This is raw code, not intended for final use, but included as a transparency tool to showcase the discovery process."
   ]
  },
  {
   "cell_type": "code",
   "execution_count": null,
   "id": "52c4f995-ac0c-46fd-9f32-47c2686b1154",
   "metadata": {},
   "outputs": [],
   "source": []
  }
 ],
 "metadata": {
  "kernelspec": {
   "display_name": "Python [conda env:base] *",
   "language": "python",
   "name": "conda-base-py"
  },
  "language_info": {
   "codemirror_mode": {
    "name": "ipython",
    "version": 3
   },
   "file_extension": ".py",
   "mimetype": "text/x-python",
   "name": "python",
   "nbconvert_exporter": "python",
   "pygments_lexer": "ipython3",
   "version": "3.12.7"
  }
 },
 "nbformat": 4,
 "nbformat_minor": 5
}
